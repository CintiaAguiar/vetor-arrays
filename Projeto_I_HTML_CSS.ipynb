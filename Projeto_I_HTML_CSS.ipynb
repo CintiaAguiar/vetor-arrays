{
  "nbformat": 4,
  "nbformat_minor": 0,
  "metadata": {
    "colab": {
      "provenance": [],
      "authorship_tag": "ABX9TyMjzG+1zWvTuuzW6n3RMfxo",
      "include_colab_link": true
    },
    "kernelspec": {
      "name": "python3",
      "display_name": "Python 3"
    },
    "language_info": {
      "name": "python"
    }
  },
  "cells": [
    {
      "cell_type": "markdown",
      "metadata": {
        "id": "view-in-github",
        "colab_type": "text"
      },
      "source": [
        "<a href=\"https://colab.research.google.com/github/CintiaAguiar/vetor-arrays/blob/main/Projeto_I_HTML_CSS.ipynb\" target=\"_parent\"><img src=\"https://colab.research.google.com/assets/colab-badge.svg\" alt=\"Open In Colab\"/></a>"
      ]
    },
    {
      "cell_type": "markdown",
      "source": [
        "# **Vetor Arrays**\n",
        "\n",
        "Declare dois arrays, cada um com um mínimo de cinco elementos, e imprima eles no terminal usando o comando print(). O primeiro array deve conter os produtos de uma loja da sua escolha (loja de comida, materiais de construção, música, etc). O segundo array deve conter os anos de nascimento de familiares e amigos seus. Lembre-se de usar nomes descritivos para nomear cada variável, e de usar o tipo de dado apropriado para cada lista (strings, booleanos, números inteiros, floats)."
      ],
      "metadata": {
        "id": "_T25YwYt7K9l"
      }
    },
    {
      "cell_type": "code",
      "source": [
        "produtos_loja = [\"Arroz\", \"Feijão\", \"Açúcar\", \"Café\", \"Óleo\"]\n",
        "\n",
        "print(\"Produtos da loja:\")\n",
        "for produto in produtos_loja:\n",
        "  print(produto)"
      ],
      "metadata": {
        "colab": {
          "base_uri": "https://localhost:8080/"
        },
        "id": "TbmZBNiM70E2",
        "outputId": "168ab0e6-93ed-40ec-c7f3-f02398932cdb"
      },
      "execution_count": null,
      "outputs": [
        {
          "output_type": "stream",
          "name": "stdout",
          "text": [
            "Produtos da loja:\n",
            "Arroz\n",
            "Feijão\n",
            "Açúcar\n",
            "Café\n",
            "Óleo\n"
          ]
        }
      ]
    },
    {
      "cell_type": "code",
      "source": [
        "anos_nascimento_amigos_familia = [1990, 1995, 2000, 2005, 2010]\n",
        "\n",
        "print(\"Anos de nascimento de amigos e familiares:\")\n",
        "for ano in anos_nascimento_amigos_familia:\n",
        "  print(ano)"
      ],
      "metadata": {
        "colab": {
          "base_uri": "https://localhost:8080/"
        },
        "id": "GTIPdG_d8XQf",
        "outputId": "0263d25e-bc14-42f7-8da3-f81f14d34fe9"
      },
      "execution_count": 9,
      "outputs": [
        {
          "output_type": "stream",
          "name": "stdout",
          "text": [
            "Anos de nascimento de amigos e familiares:\n",
            "1990\n",
            "1995\n",
            "2000\n",
            "2005\n",
            "2010\n"
          ]
        }
      ]
    }
  ]
}